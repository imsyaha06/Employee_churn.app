{
 "cells": [
  {
   "cell_type": "code",
   "execution_count": 5,
   "id": "30c4e0b8-a974-4862-a0b7-63a2fa51a70b",
   "metadata": {},
   "outputs": [
    {
     "name": "stdout",
     "output_type": "stream",
     "text": [
      "Confusion Matrix: \n",
      " [[914 109]\n",
      " [183 203]]\n",
      "Classification Report: \n",
      "               precision    recall  f1-score   support\n",
      "\n",
      "           0       0.83      0.89      0.86      1023\n",
      "           1       0.65      0.53      0.58       386\n",
      "\n",
      "    accuracy                           0.79      1409\n",
      "   macro avg       0.74      0.71      0.72      1409\n",
      "weighted avg       0.78      0.79      0.79      1409\n",
      "\n",
      "Confusion Matrix: \n",
      " [[272 102]\n",
      " [ 83 291]]\n",
      "Classification Report: \n",
      "               precision    recall  f1-score   support\n",
      "\n",
      "           0       0.77      0.73      0.75       374\n",
      "           1       0.74      0.78      0.76       374\n",
      "\n",
      "    accuracy                           0.75       748\n",
      "   macro avg       0.75      0.75      0.75       748\n",
      "weighted avg       0.75      0.75      0.75       748\n",
      "\n"
     ]
    }
   ],
   "source": [
    "import pandas as pd\n",
    "from matplotlib import pyplot as plt\n",
    "import numpy as np\n",
    "from sklearn.preprocessing import MinMaxScaler\n",
    "from sklearn.metrics import confusion_matrix, classification_report\n",
    "from sklearn.linear_model import LogisticRegression\n",
    "from sklearn.model_selection import train_test_split\n",
    "import warnings\n",
    "warnings.filterwarnings('ignore')\n",
    "\n",
    "# Load dataset\n",
    "df = pd.read_csv(\"churn_dataa.csv\")\n",
    "\n",
    "# Drop 'customerID' column\n",
    "df.drop('customerID', axis='columns', inplace=True)\n",
    "\n",
    "# Handle missing or whitespace in 'TotalCharges'\n",
    "df['TotalCharges'] = df['TotalCharges'].replace(\" \", np.nan)\n",
    "df['TotalCharges'] = pd.to_numeric(df['TotalCharges'])\n",
    "df['TotalCharges'].fillna(df['TotalCharges'].mean(), inplace=True)\n",
    "\n",
    "# Replace categorical values\n",
    "df.replace('No internet service', 'No', inplace=True)\n",
    "df.replace('No phone service', 'No', inplace=True)\n",
    "\n",
    "# Convert Yes/No columns to 1/0\n",
    "yes_no_columns = ['Partner', 'Dependents', 'PhoneService', 'MultipleLines', 'OnlineSecurity', 'OnlineBackup',\n",
    "                  'DeviceProtection', 'TechSupport', 'StreamingTV', 'StreamingMovies', 'PaperlessBilling', 'Churn']\n",
    "for col in yes_no_columns:\n",
    "    df[col].replace({'Yes': 1, 'No': 0}, inplace=True)\n",
    "\n",
    "# Convert gender to 1/0\n",
    "df['gender'].replace({'Female': 1, 'Male': 0}, inplace=True)\n",
    "\n",
    "# One-hot encoding for categorical variables\n",
    "df2 = pd.get_dummies(data=df, columns=['InternetService', 'Contract', 'PaymentMethod'])\n",
    "\n",
    "# Scaling numerical features\n",
    "cols_to_scale = ['tenure', 'MonthlyCharges', 'TotalCharges']\n",
    "scaler = MinMaxScaler()\n",
    "df2[cols_to_scale] = scaler.fit_transform(df2[cols_to_scale])\n",
    "\n",
    "# Define features (X) and target (y)\n",
    "X = df2.drop('Churn', axis='columns')\n",
    "y = df2['Churn']\n",
    "\n",
    "# Train-test split\n",
    "X_train, X_test, y_train, y_test = train_test_split(X, y, test_size=0.2, random_state=5)\n",
    "\n",
    "# Logistic Regression model\n",
    "def logistic_regression_model(X_train, y_train, X_test, y_test, weights=None):\n",
    "    log_reg = LogisticRegression(max_iter=1000, class_weight=weights)\n",
    "    \n",
    "    # Train model\n",
    "    log_reg.fit(X_train, y_train)\n",
    "    \n",
    "    # Evaluate model\n",
    "    y_preds = log_reg.predict(X_test)\n",
    "    \n",
    "    print(\"Confusion Matrix: \\n\", confusion_matrix(y_test, y_preds))\n",
    "    print(\"Classification Report: \\n\", classification_report(y_test, y_preds))\n",
    "    \n",
    "    return y_preds\n",
    "\n",
    "# Train logistic regression without class weights\n",
    "y_preds = logistic_regression_model(X_train, y_train, X_test, y_test)\n",
    "\n",
    "# Undersampling to handle class imbalance\n",
    "count_class_0, count_class_1 = df2.Churn.value_counts()\n",
    "\n",
    "df_class_0 = df2[df2['Churn'] == 0]\n",
    "df_class_1 = df2[df2['Churn'] == 1]\n",
    "\n",
    "# Under-sample majority class\n",
    "df_class_0_under = df_class_0.sample(count_class_1)\n",
    "df_test_under = pd.concat([df_class_0_under, df_class_1], axis=0)\n",
    "\n",
    "# Define features and target for undersampled dataset\n",
    "X_under = df_test_under.drop('Churn', axis='columns')\n",
    "y_under = df_test_under['Churn']\n",
    "\n",
    "# Train-test split on undersampled data\n",
    "X_train_under, X_test_under, y_train_under, y_test_under = train_test_split(X_under, y_under, test_size=0.2, random_state=15, stratify=y_under)\n",
    "\n",
    "# Train logistic regression on undersampled data\n",
    "y_preds_under = logistic_regression_model(X_train_under, y_train_under, X_test_under, y_test_under)\n",
    "\n"
   ]
  },
  {
   "cell_type": "code",
   "execution_count": 7,
   "id": "33297329-cbd8-4a9e-8ff5-e15c5b3bb1f8",
   "metadata": {},
   "outputs": [
    {
     "data": {
      "text/plain": [
       "['logistic_regression_model.joblib']"
      ]
     },
     "execution_count": 7,
     "metadata": {},
     "output_type": "execute_result"
    }
   ],
   "source": [
    "import joblib \n",
    "# Save the trained model to a file\n",
    "joblib.dump(log_reg, 'logistic_regression_model.joblib')"
   ]
  },
  {
   "cell_type": "code",
   "execution_count": 9,
   "id": "2d43eb57-25f9-4dd5-abd5-ef54d705fff7",
   "metadata": {},
   "outputs": [
    {
     "data": {
      "text/plain": [
       "['scaler_churn.joblib']"
      ]
     },
     "execution_count": 9,
     "metadata": {},
     "output_type": "execute_result"
    }
   ],
   "source": [
    "joblib.dump(scaler, 'scaler_churn.joblib')"
   ]
  },
  {
   "cell_type": "code",
   "execution_count": null,
   "id": "fe381e19-59bf-4235-ae01-a2344cfb2016",
   "metadata": {},
   "outputs": [],
   "source": []
  }
 ],
 "metadata": {
  "kernelspec": {
   "display_name": "Python 3 (ipykernel)",
   "language": "python",
   "name": "python3"
  },
  "language_info": {
   "codemirror_mode": {
    "name": "ipython",
    "version": 3
   },
   "file_extension": ".py",
   "mimetype": "text/x-python",
   "name": "python",
   "nbconvert_exporter": "python",
   "pygments_lexer": "ipython3",
   "version": "3.12.5"
  }
 },
 "nbformat": 4,
 "nbformat_minor": 5
}
